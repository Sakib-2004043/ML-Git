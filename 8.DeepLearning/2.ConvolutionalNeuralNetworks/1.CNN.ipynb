version https://git-lfs.github.com/spec/v1
oid sha256:45690f22e0862d2c4ade06a2b845409e8b7f1c05e40b4441143c0d5529197c75
size 26683
