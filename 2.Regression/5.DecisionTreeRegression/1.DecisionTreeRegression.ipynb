version https://git-lfs.github.com/spec/v1
oid sha256:faf8de7ac74a7e5441885d25af1fb5fb1a2b51b68cd23a1ef7f27dfec9fb96f2
size 47884
