version https://git-lfs.github.com/spec/v1
oid sha256:3df3514ab8dabd84381411b65d8924b8da043fb8f20ca32801e7e5cd6047ece6
size 13007
